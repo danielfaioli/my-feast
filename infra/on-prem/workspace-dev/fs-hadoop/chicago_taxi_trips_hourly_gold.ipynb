{
 "cells": [
  {
   "cell_type": "code",
   "execution_count": 1,
   "id": "81fd23d5",
   "metadata": {},
   "outputs": [
    {
     "name": "stderr",
     "output_type": "stream",
     "text": [
      "Using Spark's default log4j profile: org/apache/spark/log4j-defaults.properties\n",
      "Setting default log level to \"WARN\".\n",
      "To adjust logging level use sc.setLogLevel(newLevel). For SparkR, use setLogLevel(newLevel).\n",
      "22/05/23 01:54:24 WARN NativeCodeLoader: Unable to load native-hadoop library for your platform... using builtin-java classes where applicable\n"
     ]
    }
   ],
   "source": [
    "import os \n",
    "import pyspark.sql.functions as F\n",
    "from pyspark.sql import SparkSession, DataFrame\n",
    "from feast import FeatureStore\n",
    "\n",
    "import warnings\n",
    "with warnings.catch_warnings():\n",
    "    warnings.simplefilter('ignore')\n",
    "\n",
    "spark = SparkSession.\\\n",
    "        builder.\\\n",
    "        appName(\"pyspark-notebook\").\\\n",
    "        master(\"spark://spark-master:7077\").\\\n",
    "        config(\"spark.executor.memory\", \"1g\").\\\n",
    "        config(\"spark.executor.cores\", 1).\\\n",
    "        getOrCreate()\n",
    "\n",
    "spark.conf.set(\"spark.sql.sources.partitionOverwriteMode\", \"dynamic\")\n",
    "spark.conf.set(\"fs.azure\", \"org.apache.hadoop.fs.azure.NativeAzureFileSystem\")\n",
    "spark.conf.set(\"fs.azure.account.key.myfeastadls.dfs.core.windows.net\", os.environ[\"STORAGE_ACCOUNT_KEY\"])\n",
    "spark.conf.set(\"spark.databricks.delta.formatCheck.enabled\", False)\n",
    "\n",
    "hdfs = \"hdfs://namenode:8020\"\n",
    "fs = FeatureStore(\"./fs_online\")\n"
   ]
  },
  {
   "cell_type": "markdown",
   "id": "becd2ad0",
   "metadata": {},
   "source": [
    "# FEATURE ENGINEERING"
   ]
  },
  {
   "cell_type": "code",
   "execution_count": 12,
   "id": "f6698fa8",
   "metadata": {},
   "outputs": [
    {
     "name": "stderr",
     "output_type": "stream",
     "text": [
      "                                                                                \r"
     ]
    }
   ],
   "source": [
    "df = spark.read.load(f\"{hdfs}/silver/chicago/taxi_trips\")\n",
    "\n",
    "gdf = df.\\\n",
    "withColumn(\"event_timestamp\", F.date_format(\n",
    "    F.to_timestamp(\n",
    "        F.col(\"trip_start_timestamp\")\n",
    "    ), \"yyyy-MM-dd HH:00:00\"\n",
    ")).\\\n",
    "groupBy(\"taxi_id\", \"event_timestamp\").\\\n",
    "agg(\n",
    "    F.avg(\"trip_seconds\").alias(\"avg_trip_time\"),\n",
    "    F.avg(\"trip_miles\").alias(\"avg_trip_dist\"),\n",
    "    F.avg(\"fare\").alias(\"avg_trip_fare\"),\n",
    "    F.avg(\"tips\").alias(\"avg_trip_tips\"),\n",
    "    F.sum(\"fare\").alias(\"total_fare_hour\"),\n",
    "    F.sum(\"tips\").alias(\"total_tips_hour\"),\n",
    "    F.count(\"taxi_id\").alias(\"trips_count\")\n",
    ").\\\n",
    "withColumn(\"created\", F.to_date(\"event_timestamp\", \"yyyy-MM-dd HH:00:00\"))\n",
    "# withColumn(\"trip_id\", F.concat_ws(\n",
    "#     \"\",\n",
    "#     F.col(\"taxi_id\"), \n",
    "#     F.unix_timestamp(F.col(\"event_timestamp\"),\"yyyy-MM-dd HH:00:00\").cast(\"string\")\n",
    "# ))\n",
    "\n",
    "gdf.repartition(\"created\").\\\n",
    "write.\\\n",
    "mode(\"overwrite\").\\\n",
    "partitionBy(\"created\").\\\n",
    "save(f\"{hdfs}/gold/chicago/f_taxi_trips_hourly\")"
   ]
  },
  {
   "cell_type": "markdown",
   "id": "d3acdf9c",
   "metadata": {},
   "source": [
    "# REGISTERING CREATED FEATURE IN CENTRAL FEATURE REGISTRY"
   ]
  },
  {
   "cell_type": "code",
   "execution_count": 13,
   "id": "6bf2eac4",
   "metadata": {},
   "outputs": [],
   "source": [
    "from feast.infra.offline_stores.contrib.spark_offline_store.spark_source import SparkSource\n",
    "from feast import Feature, FeatureView, ValueType\n",
    "from datetime import timedelta, datetime\n",
    "from feast import Entity\n",
    "\n",
    "# Feature Source Definition\n",
    "driver_stats_source = SparkSource(\n",
    "    file_format=\"parquet\",\n",
    "    path=f\"{hdfs}/gold/chicago/f_taxi_trips_hourly\",\n",
    "    timestamp_field=\"event_timestamp\",\n",
    "    created_timestamp_column=\"created\",\n",
    "    name=\"chi_taxi_trips_hourly\"\n",
    ")\n",
    "\n",
    "# Feature Definition\n",
    "driver_stats_fv = FeatureView(\n",
    "    name=\"fv_chi_taxi_trips_hourly\",\n",
    "    entities=[\"taxi_id\"],\n",
    "    features=[\n",
    "        Feature(name=\"avg_trip_time\", dtype=ValueType.FLOAT),\n",
    "        Feature(name=\"avg_trip_dist\", dtype=ValueType.FLOAT),\n",
    "        Feature(name=\"avg_trip_fare\", dtype=ValueType.FLOAT),\n",
    "        Feature(name=\"avg_trip_tips\", dtype=ValueType.FLOAT),\n",
    "        Feature(name=\"total_tips_hour\", dtype=ValueType.FLOAT),\n",
    "        Feature(name=\"trips_count\", dtype=ValueType.FLOAT),\n",
    "    ],\n",
    "    batch_source=driver_stats_source\n",
    ")\n",
    "\n",
    "# Entity definition => entity == primary key \n",
    "\n",
    "driver_entity = Entity(name=\"taxi_id\", value_type=ValueType.STRING)"
   ]
  },
  {
   "cell_type": "markdown",
   "id": "13114cd1",
   "metadata": {},
   "source": [
    "## Apply Feature and Entity to Registry ---- feast apply"
   ]
  },
  {
   "cell_type": "code",
   "execution_count": 4,
   "id": "2c7b2b5e",
   "metadata": {},
   "outputs": [],
   "source": [
    "fs.apply([driver_entity, driver_stats_fv])"
   ]
  },
  {
   "cell_type": "markdown",
   "id": "89eab3c2",
   "metadata": {},
   "source": [
    "## Validate that feature metadata was created in registry"
   ]
  },
  {
   "cell_type": "code",
   "execution_count": 5,
   "id": "be11b1e9",
   "metadata": {},
   "outputs": [],
   "source": [
    "from feast import FeatureStore\n",
    "fs = FeatureStore(\"./fs_online\")"
   ]
  },
  {
   "cell_type": "code",
   "execution_count": 14,
   "id": "2cab098f",
   "metadata": {},
   "outputs": [
    {
     "data": {
      "text/plain": [
       "<FeatureView(name = fv_chi_taxi_trips_hourly, entities = ['taxi_id'], stream_source = None, batch_source = {\n",
       "  \"type\": \"BATCH_SPARK\",\n",
       "  \"timestampField\": \"event_timestamp\",\n",
       "  \"createdTimestampColumn\": \"created\",\n",
       "  \"dataSourceClassType\": \"feast.infra.offline_stores.contrib.spark_offline_store.spark_source.SparkSource\",\n",
       "  \"name\": \"chi_taxi_trips_hourly\",\n",
       "  \"sparkOptions\": {\n",
       "    \"path\": \"hdfs://namenode:8020/gold/chicago/f_taxi_trips_hourly\",\n",
       "    \"fileFormat\": \"parquet\"\n",
       "  }\n",
       "}, source = {\n",
       "  \"type\": \"BATCH_SPARK\",\n",
       "  \"timestampField\": \"event_timestamp\",\n",
       "  \"createdTimestampColumn\": \"created\",\n",
       "  \"dataSourceClassType\": \"feast.infra.offline_stores.contrib.spark_offline_store.spark_source.SparkSource\",\n",
       "  \"name\": \"chi_taxi_trips_hourly\",\n",
       "  \"sparkOptions\": {\n",
       "    \"path\": \"hdfs://namenode:8020/gold/chicago/f_taxi_trips_hourly\",\n",
       "    \"fileFormat\": \"parquet\"\n",
       "  }\n",
       "}, ttl = 0:00:00, schema = [avg_trip_time-Float32, avg_trip_dist-Float32, avg_trip_fare-Float32, avg_trip_tips-Float32, total_tips_hour-Float32, trips_count-Float32], features = [avg_trip_time-Float32, avg_trip_dist-Float32, avg_trip_fare-Float32, avg_trip_tips-Float32, total_tips_hour-Float32, trips_count-Float32], description = , tags = {}, owner = , projection = FeatureViewProjection(name='fv_chi_taxi_trips_hourly', name_alias=None, features=[avg_trip_time-Float32, avg_trip_dist-Float32, avg_trip_fare-Float32, avg_trip_tips-Float32, total_tips_hour-Float32, trips_count-Float32], join_key_map={}), created_timestamp = 2022-05-23 01:15:19.458642, last_updated_timestamp = 2022-05-23 01:15:19.458642, online = True, materialization_intervals = [])>"
      ]
     },
     "execution_count": 14,
     "metadata": {},
     "output_type": "execute_result"
    }
   ],
   "source": [
    "fs.get_feature_view(\"fv_chi_taxi_trips_hourly\")"
   ]
  },
  {
   "cell_type": "code",
   "execution_count": 15,
   "id": "02348a0f",
   "metadata": {},
   "outputs": [
    {
     "name": "stdout",
     "output_type": "stream",
     "text": [
      "Entities\n",
      "\n",
      "driver\n",
      "====================================================================================================\n",
      "trip_id\n",
      "====================================================================================================\n",
      "taxi_id\n",
      "====================================================================================================\n",
      "\n",
      "Feature Views\n",
      "====================================================================================================\n",
      "Feature View: fv_chi_station_reads_hourly\n",
      "\n",
      "{\n",
      "  \"spec\": {\n",
      "    \"name\": \"fv_chi_station_reads_hourly\",\n",
      "    \"features\": [\n",
      "      {\n",
      "        \"name\": \"precipitation_type\",\n",
      "        \"valueType\": \"STRING\"\n",
      "      },\n",
      "      {\n",
      "        \"name\": \"avg_temp\",\n",
      "        \"valueType\": \"FLOAT\"\n",
      "      },\n",
      "      {\n",
      "        \"name\": \"total_rain\",\n",
      "        \"valueType\": \"FLOAT\"\n",
      "      }\n",
      "    ],\n",
      "    \"ttl\": \"0s\",\n",
      "    \"batchSource\": {\n",
      "      \"type\": \"BATCH_SPARK\",\n",
      "      \"timestampField\": \"event_timestamp\",\n",
      "      \"createdTimestampColumn\": \"created\",\n",
      "      \"dataSourceClassType\": \"feast.infra.offline_stores.contrib.spark_offline_store.spark_source.SparkSource\",\n",
      "      \"name\": \"chi_station_reads_hourly_fv\",\n",
      "      \"sparkOptions\": {\n",
      "        \"path\": \"abfss://gold@myfeastadls.dfs.core.windows.net/chicago/weather/station_reads_hourly_fv\",\n",
      "        \"fileFormat\": \"parquet\"\n",
      "      }\n",
      "    },\n",
      "    \"online\": true\n",
      "  },\n",
      "  \"meta\": {\n",
      "    \"createdTimestamp\": \"2022-05-19T01:57:59.647444Z\",\n",
      "    \"lastUpdatedTimestamp\": \"2022-05-19T01:57:59.647444Z\"\n",
      "  }\n",
      "}\n",
      "====================================================================================================\n",
      "Feature View: fv_chi_driver_stats_hourly\n",
      "\n",
      "{\n",
      "  \"spec\": {\n",
      "    \"name\": \"fv_chi_driver_stats_hourly\",\n",
      "    \"entities\": [\n",
      "      \"driver\"\n",
      "    ],\n",
      "    \"features\": [\n",
      "      {\n",
      "        \"name\": \"avg_trip_time\",\n",
      "        \"valueType\": \"FLOAT\"\n",
      "      },\n",
      "      {\n",
      "        \"name\": \"avg_trip_dist\",\n",
      "        \"valueType\": \"FLOAT\"\n",
      "      },\n",
      "      {\n",
      "        \"name\": \"avg_trip_fare\",\n",
      "        \"valueType\": \"FLOAT\"\n",
      "      },\n",
      "      {\n",
      "        \"name\": \"avg_trip_tips\",\n",
      "        \"valueType\": \"FLOAT\"\n",
      "      },\n",
      "      {\n",
      "        \"name\": \"total_tips_hour\",\n",
      "        \"valueType\": \"FLOAT\"\n",
      "      },\n",
      "      {\n",
      "        \"name\": \"trips_count\",\n",
      "        \"valueType\": \"FLOAT\"\n",
      "      }\n",
      "    ],\n",
      "    \"ttl\": \"0s\",\n",
      "    \"batchSource\": {\n",
      "      \"type\": \"BATCH_SPARK\",\n",
      "      \"timestampField\": \"event_timestamp\",\n",
      "      \"createdTimestampColumn\": \"created\",\n",
      "      \"dataSourceClassType\": \"feast.infra.offline_stores.contrib.spark_offline_store.spark_source.SparkSource\",\n",
      "      \"name\": \"f_chi_driver_stats_hourly\",\n",
      "      \"sparkOptions\": {\n",
      "        \"path\": \"hdfs://namenode:8020/gold/chicago/f_driver_stats_hourly\",\n",
      "        \"fileFormat\": \"parquet\"\n",
      "      }\n",
      "    },\n",
      "    \"online\": true\n",
      "  },\n",
      "  \"meta\": {\n",
      "    \"createdTimestamp\": \"2022-05-19T19:43:17.269395Z\",\n",
      "    \"lastUpdatedTimestamp\": \"2022-05-19T19:43:17.269395Z\"\n",
      "  }\n",
      "}\n",
      "====================================================================================================\n",
      "Feature View: fv_chi_taxi_trips_hourly\n",
      "\n",
      "{\n",
      "  \"spec\": {\n",
      "    \"name\": \"fv_chi_taxi_trips_hourly\",\n",
      "    \"entities\": [\n",
      "      \"taxi_id\"\n",
      "    ],\n",
      "    \"features\": [\n",
      "      {\n",
      "        \"name\": \"avg_trip_time\",\n",
      "        \"valueType\": \"FLOAT\"\n",
      "      },\n",
      "      {\n",
      "        \"name\": \"avg_trip_dist\",\n",
      "        \"valueType\": \"FLOAT\"\n",
      "      },\n",
      "      {\n",
      "        \"name\": \"avg_trip_fare\",\n",
      "        \"valueType\": \"FLOAT\"\n",
      "      },\n",
      "      {\n",
      "        \"name\": \"avg_trip_tips\",\n",
      "        \"valueType\": \"FLOAT\"\n",
      "      },\n",
      "      {\n",
      "        \"name\": \"total_tips_hour\",\n",
      "        \"valueType\": \"FLOAT\"\n",
      "      },\n",
      "      {\n",
      "        \"name\": \"trips_count\",\n",
      "        \"valueType\": \"FLOAT\"\n",
      "      }\n",
      "    ],\n",
      "    \"ttl\": \"0s\",\n",
      "    \"batchSource\": {\n",
      "      \"type\": \"BATCH_SPARK\",\n",
      "      \"timestampField\": \"event_timestamp\",\n",
      "      \"createdTimestampColumn\": \"created\",\n",
      "      \"dataSourceClassType\": \"feast.infra.offline_stores.contrib.spark_offline_store.spark_source.SparkSource\",\n",
      "      \"name\": \"chi_taxi_trips_hourly\",\n",
      "      \"sparkOptions\": {\n",
      "        \"path\": \"hdfs://namenode:8020/gold/chicago/f_taxi_trips_hourly\",\n",
      "        \"fileFormat\": \"parquet\"\n",
      "      }\n",
      "    },\n",
      "    \"online\": true\n",
      "  },\n",
      "  \"meta\": {\n",
      "    \"createdTimestamp\": \"2022-05-23T01:15:19.458642Z\",\n",
      "    \"lastUpdatedTimestamp\": \"2022-05-23T01:15:19.458642Z\"\n",
      "  }\n",
      "}\n"
     ]
    }
   ],
   "source": [
    "from feast import FeatureStore\n",
    "fs = FeatureStore(\"./fs_online\")\n",
    "\n",
    "print(\"Entities\\n\")\n",
    "for en in fs.list_entities():\n",
    "    print(f\"{en.name}\")\n",
    "    print(\"=\"*100)\n",
    "\n",
    "    \n",
    "print(\"\\nFeature Views\")\n",
    "for f in fs.list_feature_views():\n",
    "    print(\"=\"*100+\"\")    \n",
    "    print(f\"Feature View: {f.name}\\n\")\n",
    "    print(f)"
   ]
  },
  {
   "cell_type": "markdown",
   "id": "90845569",
   "metadata": {},
   "source": [
    "## Materialize feature to Online Store"
   ]
  },
  {
   "cell_type": "code",
   "execution_count": 2,
   "id": "7d190b41",
   "metadata": {},
   "outputs": [
    {
     "name": "stderr",
     "output_type": "stream",
     "text": [
      "/usr/local/lib/python3.9/dist-packages/feast/infra/offline_stores/contrib/spark_offline_store/spark_source.py:75: RuntimeWarning: The spark data source API is an experimental feature in alpha development. This API is unstable and it could and most probably will be changed in the future.\n",
      "  warnings.warn(\n"
     ]
    },
    {
     "name": "stdout",
     "output_type": "stream",
     "text": [
      "Materializing \u001b[1m\u001b[32m1\u001b[0m feature views from \u001b[1m\u001b[32m2022-04-01 00:00:00+00:00\u001b[0m to \u001b[1m\u001b[32m2022-05-30 00:00:00+00:00\u001b[0m into the \u001b[1m\u001b[32mredis\u001b[0m online store.\n",
      "\n",
      "\u001b[1m\u001b[32mfv_chi_taxi_trips_hourly\u001b[0m:\n"
     ]
    },
    {
     "name": "stderr",
     "output_type": "stream",
     "text": [
      "/usr/local/lib/python3.9/dist-packages/feast/infra/offline_stores/contrib/spark_offline_store/spark.py:64: RuntimeWarning: The spark offline store is an experimental feature in alpha development. Some functionality may still be unstable so functionality can change in the future.\n",
      "  warnings.warn(\n"
     ]
    },
    {
     "name": "stdout",
     "output_type": "stream",
     "text": [
      "Pulling latest features from spark offline store\n"
     ]
    },
    {
     "name": "stderr",
     "output_type": "stream",
     "text": [
      "100%|██████████████████████████████████████████████████████████| 2195/2195 [00:02<00:00, 957.33it/s]\n",
      "/usr/local/lib/python3.9/dist-packages/feast/infra/offline_stores/contrib/spark_offline_store/spark_source.py:75: RuntimeWarning: The spark data source API is an experimental feature in alpha development. This API is unstable and it could and most probably will be changed in the future.\n",
      "  warnings.warn(\n"
     ]
    }
   ],
   "source": [
    "from datetime import datetime\n",
    "fs.materialize(\n",
    "    start_date=datetime(2022, 4, 1),\n",
    "    end_date=datetime(2022, 5, 30),\n",
    "    feature_views=[\"fv_chi_taxi_trips_hourly\"]\n",
    ")"
   ]
  },
  {
   "cell_type": "code",
   "execution_count": null,
   "id": "dc8f12f9",
   "metadata": {},
   "outputs": [],
   "source": []
  }
 ],
 "metadata": {
  "kernelspec": {
   "display_name": "myfeast",
   "language": "python",
   "name": "myfeast"
  },
  "language_info": {
   "codemirror_mode": {
    "name": "ipython",
    "version": 3
   },
   "file_extension": ".py",
   "mimetype": "text/x-python",
   "name": "python",
   "nbconvert_exporter": "python",
   "pygments_lexer": "ipython3",
   "version": "3.9.2"
  },
  "toc-autonumbering": true,
  "toc-showmarkdowntxt": true
 },
 "nbformat": 4,
 "nbformat_minor": 5
}
