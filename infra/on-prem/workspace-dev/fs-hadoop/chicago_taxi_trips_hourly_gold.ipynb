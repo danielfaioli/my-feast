{
 "cells": [
  {
   "cell_type": "code",
   "execution_count": 1,
   "id": "1d6b0160",
   "metadata": {},
   "outputs": [
    {
     "name": "stderr",
     "output_type": "stream",
     "text": [
      "Using Spark's default log4j profile: org/apache/spark/log4j-defaults.properties\n",
      "Setting default log level to \"WARN\".\n",
      "To adjust logging level use sc.setLogLevel(newLevel). For SparkR, use setLogLevel(newLevel).\n",
      "22/05/19 02:09:55 WARN NativeCodeLoader: Unable to load native-hadoop library for your platform... using builtin-java classes where applicable\n"
     ]
    }
   ],
   "source": [
    "import os \n",
    "import pyspark.sql.functions as F\n",
    "from pyspark.sql import SparkSession, DataFrame\n",
    "from feast import FeatureStore\n",
    "\n",
    "import warnings\n",
    "with warnings.catch_warnings():\n",
    "    warnings.simplefilter('ignore')\n",
    "\n",
    "spark = SparkSession.\\\n",
    "        builder.\\\n",
    "        appName(\"pyspark-notebook\").\\\n",
    "        master(\"spark://spark-master:7077\").\\\n",
    "        config(\"spark.executor.memory\", \"1g\").\\\n",
    "        config(\"spark.executor.cores\", 1).\\\n",
    "        getOrCreate()\n",
    "\n",
    "spark.conf.set(\"spark.sql.sources.partitionOverwriteMode\", \"dynamic\")\n",
    "spark.conf.set(\"fs.azure\", \"org.apache.hadoop.fs.azure.NativeAzureFileSystem\")\n",
    "spark.conf.set(\"fs.azure.account.key.myfeastadls.dfs.core.windows.net\", os.environ[\"STORAGE_ACCOUNT_KEY\"])\n",
    "\n",
    "hdfs = \"hdfs://namenode:8020\"\n",
    "fs = FeatureStore(\"./fs_online\")\n"
   ]
  },
  {
   "cell_type": "markdown",
   "id": "d89b1354",
   "metadata": {},
   "source": [
    "# FEATURE ENGINEERING"
   ]
  },
  {
   "cell_type": "code",
   "execution_count": 2,
   "id": "9dfcf2dd",
   "metadata": {},
   "outputs": [
    {
     "name": "stderr",
     "output_type": "stream",
     "text": [
      "                                                                                \r"
     ]
    }
   ],
   "source": [
    "df = spark.read.load(f\"{hdfs}/silver/chicago/taxi_trips\")\n",
    "\n",
    "gdf = df.\\\n",
    "withColumn(\"event_timestamp\", F.date_format(\n",
    "    F.to_timestamp(\n",
    "        F.col(\"trip_start_timestamp\")\n",
    "    ), \"dd-MM-yyyy HH:00:00\"\n",
    ")).\\\n",
    "groupBy(\"taxi_id\", \"event_timestamp\").\\\n",
    "agg(\n",
    "    F.avg(\"trip_seconds\").alias(\"avg_trip_time\"),\n",
    "    F.avg(\"trip_miles\").alias(\"avg_trip_dist\"),\n",
    "    F.avg(\"fare\").alias(\"avg_trip_fare\"),\n",
    "    F.avg(\"tips\").alias(\"avg_trip_tips\"),\n",
    "    F.sum(\"fare\").alias(\"total_fare_hour\"),\n",
    "    F.sum(\"tips\").alias(\"total_tips_hour\"),\n",
    "    F.count(\"trip_id\").alias(\"trips_count\")\n",
    ").\\\n",
    "withColumn(\"created\", F.to_date(\"event_timestamp\", \"dd-MM-yyyy HH:00:00\")).\\\n",
    "withColumn(\"trip_id\", F.concat_ws(\n",
    "    \"\",\n",
    "    F.col(\"taxi_id\"), \n",
    "    F.unix_timestamp(F.col(\"event_timestamp\"),\"dd-MM-yyyy HH:00:00\").cast(\"string\")\n",
    "))\n",
    "\n",
    "gdf.repartition(\"created\").\\\n",
    "write.\\\n",
    "mode(\"overwrite\").\\\n",
    "partitionBy(\"created\").\\\n",
    "save(f\"{hdfs}/gold/chicago/f_taxi_trips_hourly\")"
   ]
  },
  {
   "cell_type": "markdown",
   "id": "4b83ac16",
   "metadata": {},
   "source": [
    "# REGISTERING CREATED FEATURE IN CENTRAL FEATURE REGISTRY"
   ]
  },
  {
   "cell_type": "code",
   "execution_count": 3,
   "id": "b13c1589",
   "metadata": {},
   "outputs": [
    {
     "name": "stderr",
     "output_type": "stream",
     "text": [
      "/usr/local/lib/python3.9/dist-packages/feast/infra/offline_stores/contrib/spark_offline_store/spark_source.py:75: RuntimeWarning: The spark data source API is an experimental feature in alpha development. This API is unstable and it could and most probably will be changed in the future.\n",
      "  warnings.warn(\n",
      "/usr/local/lib/python3.9/dist-packages/feast/feature_view.py:256: DeprecationWarning: batch_source and stream_source have been deprecated in favor of `source`.The deprecated fields will be removed in Feast 0.23.\n",
      "  warnings.warn(\n",
      "/usr/local/lib/python3.9/dist-packages/feast/feature_view.py:194: DeprecationWarning: The `features` parameter is being deprecated in favor of the `schema` parameter. Please switch from using `features` to `schema`. This will also requiring switching feature definitions from using `Feature` to `Field`. Feast 0.21 and onwards will not support the `features` parameter.\n",
      "  warnings.warn(\n"
     ]
    }
   ],
   "source": [
    "from feast.infra.offline_stores.contrib.spark_offline_store.spark_source import SparkSource\n",
    "from feast import Feature, FeatureView, ValueType\n",
    "from datetime import timedelta, datetime\n",
    "from feast import Entity\n",
    "\n",
    "# Feature Source Definition\n",
    "trip_stats_source = SparkSource(\n",
    "    file_format=\"parquet\",\n",
    "    path=f\"{hdfs}/gold/chicago/f_taxi_trips_hourly\",\n",
    "    timestamp_field=\"event_timestamp\",\n",
    "    created_timestamp_column=\"created\",\n",
    "    name=\"chi_taxi_trips_hourly\"\n",
    ")\n",
    "\n",
    "# Feature Definition\n",
    "trip_stats_fv = FeatureView(\n",
    "    name=\"fv_chi_taxi_trips_hourly\",\n",
    "    entities=[\"trip_id\"],\n",
    "    features=[\n",
    "        Feature(name=\"avg_trip_time\", dtype=ValueType.FLOAT),\n",
    "        Feature(name=\"avg_trip_dist\", dtype=ValueType.FLOAT),\n",
    "        Feature(name=\"avg_trip_fare\", dtype=ValueType.FLOAT),\n",
    "        Feature(name=\"avg_trip_tips\", dtype=ValueType.FLOAT),\n",
    "        Feature(name=\"total_tips_hour\", dtype=ValueType.FLOAT),\n",
    "        Feature(name=\"trips_count\", dtype=ValueType.FLOAT),\n",
    "    ],\n",
    "    batch_source=trip_stats_source\n",
    ")\n",
    "\n",
    "# Entity definition => entity == primary key \n",
    "\n",
    "trip_entity = Entity(name=\"trip_id\", value_type=ValueType.STRING)"
   ]
  },
  {
   "cell_type": "markdown",
   "id": "a1ee3b35",
   "metadata": {},
   "source": [
    "## Apply Feature and Entity to Registry ---- feast apply"
   ]
  },
  {
   "cell_type": "code",
   "execution_count": 4,
   "id": "83133b5c",
   "metadata": {},
   "outputs": [],
   "source": [
    "fs.apply([trip_entity, trip_stats_fv])"
   ]
  },
  {
   "cell_type": "markdown",
   "id": "aa76263d",
   "metadata": {},
   "source": [
    "## Validate that feature metadata was created in registry"
   ]
  },
  {
   "cell_type": "code",
   "execution_count": 9,
   "id": "f9de25a7",
   "metadata": {},
   "outputs": [
    {
     "name": "stdout",
     "output_type": "stream",
     "text": [
      "{\n",
      "  \"spec\": {\n",
      "    \"name\": \"fv_chi_station_reads_hourly\",\n",
      "    \"features\": [\n",
      "      {\n",
      "        \"name\": \"precipitation_type\",\n",
      "        \"valueType\": \"STRING\"\n",
      "      },\n",
      "      {\n",
      "        \"name\": \"avg_temp\",\n",
      "        \"valueType\": \"FLOAT\"\n",
      "      },\n",
      "      {\n",
      "        \"name\": \"total_rain\",\n",
      "        \"valueType\": \"FLOAT\"\n",
      "      }\n",
      "    ],\n",
      "    \"ttl\": \"0s\",\n",
      "    \"batchSource\": {\n",
      "      \"type\": \"BATCH_SPARK\",\n",
      "      \"timestampField\": \"event_timestamp\",\n",
      "      \"createdTimestampColumn\": \"created\",\n",
      "      \"dataSourceClassType\": \"feast.infra.offline_stores.contrib.spark_offline_store.spark_source.SparkSource\",\n",
      "      \"name\": \"chi_station_reads_hourly_fv\",\n",
      "      \"sparkOptions\": {\n",
      "        \"path\": \"abfss://gold@myfeastadls.dfs.core.windows.net/chicago/weather/station_reads_hourly_fv\",\n",
      "        \"fileFormat\": \"parquet\"\n",
      "      }\n",
      "    },\n",
      "    \"online\": true\n",
      "  },\n",
      "  \"meta\": {\n",
      "    \"createdTimestamp\": \"2022-05-19T01:57:59.647444Z\",\n",
      "    \"lastUpdatedTimestamp\": \"2022-05-19T01:57:59.647444Z\"\n",
      "  }\n",
      "}\n",
      "{\n",
      "  \"spec\": {\n",
      "    \"name\": \"fv_chi_taxi_trips_hourly\",\n",
      "    \"entities\": [\n",
      "      \"trip_id\"\n",
      "    ],\n",
      "    \"features\": [\n",
      "      {\n",
      "        \"name\": \"avg_trip_time\",\n",
      "        \"valueType\": \"FLOAT\"\n",
      "      },\n",
      "      {\n",
      "        \"name\": \"avg_trip_dist\",\n",
      "        \"valueType\": \"FLOAT\"\n",
      "      },\n",
      "      {\n",
      "        \"name\": \"avg_trip_fare\",\n",
      "        \"valueType\": \"FLOAT\"\n",
      "      },\n",
      "      {\n",
      "        \"name\": \"avg_trip_tips\",\n",
      "        \"valueType\": \"FLOAT\"\n",
      "      },\n",
      "      {\n",
      "        \"name\": \"total_tips_hour\",\n",
      "        \"valueType\": \"FLOAT\"\n",
      "      },\n",
      "      {\n",
      "        \"name\": \"trips_count\",\n",
      "        \"valueType\": \"FLOAT\"\n",
      "      }\n",
      "    ],\n",
      "    \"ttl\": \"0s\",\n",
      "    \"batchSource\": {\n",
      "      \"type\": \"BATCH_SPARK\",\n",
      "      \"timestampField\": \"event_timestamp\",\n",
      "      \"createdTimestampColumn\": \"created\",\n",
      "      \"dataSourceClassType\": \"feast.infra.offline_stores.contrib.spark_offline_store.spark_source.SparkSource\",\n",
      "      \"name\": \"chi_taxi_trips_hourly\",\n",
      "      \"sparkOptions\": {\n",
      "        \"path\": \"hdfs://namenode:8020/gold/chicago/f_taxi_trips_hourly\",\n",
      "        \"fileFormat\": \"parquet\"\n",
      "      }\n",
      "    },\n",
      "    \"online\": true\n",
      "  },\n",
      "  \"meta\": {\n",
      "    \"createdTimestamp\": \"2022-05-19T02:11:33.926292Z\",\n",
      "    \"lastUpdatedTimestamp\": \"2022-05-19T02:11:33.926292Z\"\n",
      "  }\n",
      "}\n"
     ]
    },
    {
     "name": "stderr",
     "output_type": "stream",
     "text": [
      "/usr/local/lib/python3.9/dist-packages/feast/infra/offline_stores/contrib/spark_offline_store/spark_source.py:75: RuntimeWarning: The spark data source API is an experimental feature in alpha development. This API is unstable and it could and most probably will be changed in the future.\n",
      "  warnings.warn(\n"
     ]
    }
   ],
   "source": [
    "for f in fs.list_feature_views():\n",
    "    print(f)"
   ]
  },
  {
   "cell_type": "code",
   "execution_count": 27,
   "id": "399d1528",
   "metadata": {},
   "outputs": [
    {
     "name": "stdout",
     "output_type": "stream",
     "text": [
      "+------------------------------------------------------------------------------------------------------------------------------------------+\n",
      "|trip_id                                                                                                                                   |\n",
      "+------------------------------------------------------------------------------------------------------------------------------------------+\n",
      "|e51e2c30caec952b40b8329a68b498e18ce8a1f40fa75c71e425e9426db562ac617b0a28e1c69f5c579048f75a43a2dc066c17448ab65f5016acca10558df3ed1648818000|\n",
      "|dd9b35afedd096ac55661acaab6074c2d2fb289f592d7b9bd366cebd1633d8a8ebe58f217c5389c86b7c5731aef8018cacc109c152965a663cab562bac68b7a41648818000|\n",
      "|bbb57d3a935ecb5c620c671bf5c2bc9b0ad1a7ac1124ec452050ee3b58e917004f9a6c6e733c13f23fca3b93720be55ea517aceeafbb724f766b95581f35c1af1648818000|\n",
      "|992641c74ae28a22b5d72e1f9fcc89ebda221b88c7bb03db9d914a7bba1ae11601c36b633ed91cfe2283f8baeb56f8fd6bfacbb5884bf1681759d0a2375a5c471648825200|\n",
      "|0609b5525eef70a5776b43eaee8d9b065f382926ac6527ea07660cefbabc7f623a98d66c5cb888662d3e296999d9bfcaf2016091d98b7828d213df02074a40d11648825200|\n",
      "|15b7f4c0463be79f2a6aa1aebd8d29bd25a2c2e1c32f35b79482080147cfc5b1e95cffa2f5e8408bbf634b71362021059509c9d0bc56c51ee20aef09720c27331648825200|\n",
      "|5cdde36a39ded2651da1686c7813baf589dac6eb873894c8d09897a60426f797790a9733c26060fcfb78ab34d938474c558db546687b5fed582732b2e120567d1648828800|\n",
      "|e989861ec1cd3189e671393d5040ccb4d2ed6537a11ac1f2ee8fb1a1c90c5da1bf71a8f1d5ef369190e814c41e0623d495d8451e3f45cf37fc359c51075102861648828800|\n",
      "|a5fd673635d0dd1555c584c480f3aeb152e4ae021d8076ba46f9b35b099f04221e061fafed0ae1a86a6b017b0c10d3edf4cd005d6b2b60f4e0f4d10311b41b0a1648828800|\n",
      "|73671d8d04e67d4eabdbbab93357ea36c3aa7afd6e6a2881cf21f258b52f43882fc07437fedb05acc79f872e8592d804fcb992f289567500f15606511eb707451648828800|\n",
      "|e394089d397e0007d9a4154fa7f6936aba7bd6052e892e62eb2762e65ff77494cd71f47964910d38f38229708ec22a57774078117cc528ab33d19e60e9f573ed1648828800|\n",
      "|f7702c24e158419dab2ab9901f181b533f0d43392b52bc3b57348fdcbb275106d8f63ad5d96f154169e88fe91a99043475c9b28eb852d31bc2c5281a8445cff11648828800|\n",
      "|ef8b593c7d9dc0592b123bff43679e108de79cc4dc22a945b1d2ea8aca725cd06649b83c5cb04ca27692d60cf09974c7d1aaf62700499c158188f265950fbc8a1648828800|\n",
      "|f960cae38a8f4bfdcce4f316d2b5e336758ca47f7d5227711b639c468bf97a9410788ad6a68b8f5869a8f04a3a564d5943e0d46753bbb2a735eeb4de2552147d1648832400|\n",
      "|ba0951d06c2db8c1623eaee9b2a34434c045baae41d5c74cbbeec27c06e9da6dd367368d2644622ae60899cc5abdefbec563ab7007b13221b298c1132e60e0ac1648832400|\n",
      "|7ff1fd92d52bfeec34b599a2cf4c4491af29916df6fc3c84f88a2a86271ba1b02ee42929c63c2cf56253bf941f09e2af541a1c63446be3c8f36a1ab489ee8e121648836000|\n",
      "|cd36cd2a179a2d9a40cdb19ad0df6dd0da9751496a956771c22b4ca438e95f2edc43075ccf2b9674fa122d7033e37916467310ce6b155532a2f6437516739d771648839600|\n",
      "|dd16496faf01009b70959e7c0d5b86f9bb7f432a1771c5737f75542f886f1c16d56afc454b02a96737372836e47c77ffc172b0bdf80e13640ff9203b7d0d6dbc1648839600|\n",
      "|062551a6a256e259d266eb4904910a6d2fe1b649bc71441bf11c66054074cf9baf7024dc1d632e89f19f3539d6fce906dfc13e45449f873cbb46509e03e527641648839600|\n",
      "|c6ffdc0251589be23a278276a859f640c823bbc9f21e4d06e9909f27f79a197a05fed29bc2bb250b4809784271e681b7de43730252a79d96e8307fc9471bd2381648839600|\n",
      "+------------------------------------------------------------------------------------------------------------------------------------------+\n",
      "only showing top 20 rows\n",
      "\n"
     ]
    }
   ],
   "source": [
    "entt = spark.read.load(f\"{hdfs}/gold/chicago/f_taxi_trips_hourly\").select(\"trip_id\")\n",
    "entt.show(truncate=False)"
   ]
  },
  {
   "cell_type": "code",
   "execution_count": 28,
   "id": "bf1e8762",
   "metadata": {},
   "outputs": [
    {
     "name": "stderr",
     "output_type": "stream",
     "text": [
      "/usr/local/lib/python3.9/dist-packages/feast/infra/offline_stores/contrib/spark_offline_store/spark_source.py:75: RuntimeWarning: The spark data source API is an experimental feature in alpha development. This API is unstable and it could and most probably will be changed in the future.\n",
      "  warnings.warn(\n",
      "/usr/local/lib/python3.9/dist-packages/feast/infra/offline_stores/contrib/spark_offline_store/spark.py:119: RuntimeWarning: The spark offline store is an experimental feature in alpha development. Some functionality may still be unstable so functionality can change in the future.\n",
      "  warnings.warn(\n"
     ]
    }
   ],
   "source": [
    "hist = fs.get_historical_features(\n",
    "    entity_df=entity_df,\n",
    "    features=[\"fv_chi_taxi_trips_hourly:avg_trip_time\"]\n",
    ")"
   ]
  },
  {
   "cell_type": "code",
   "execution_count": null,
   "id": "2039f01f",
   "metadata": {},
   "outputs": [],
   "source": []
  }
 ],
 "metadata": {
  "kernelspec": {
   "display_name": "myfeast",
   "language": "python",
   "name": "myfeast"
  },
  "language_info": {
   "codemirror_mode": {
    "name": "ipython",
    "version": 3
   },
   "file_extension": ".py",
   "mimetype": "text/x-python",
   "name": "python",
   "nbconvert_exporter": "python",
   "pygments_lexer": "ipython3",
   "version": "3.9.2"
  },
  "toc-autonumbering": true
 },
 "nbformat": 4,
 "nbformat_minor": 5
}
